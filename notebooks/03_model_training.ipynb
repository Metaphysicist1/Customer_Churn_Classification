{
 "cells": [
  {
   "cell_type": "code",
   "execution_count": 6,
   "metadata": {},
   "outputs": [
    {
     "name": "stdout",
     "output_type": "stream",
     "text": [
      "Current working directory: /home/metaphysicist/Coding/Interview_Prep/Orbi/Churn/notebooks\n",
      "Project root: /home/metaphysicist/Coding/Interview_Prep/Orbi/Churn\n",
      "Config path exists: True\n"
     ]
    },
    {
     "ename": "TypeError",
     "evalue": "ModelTrainer.__init__() got an unexpected keyword argument 'config_path'",
     "output_type": "error",
     "traceback": [
      "\u001b[0;31m---------------------------------------------------------------------------\u001b[0m",
      "\u001b[0;31mTypeError\u001b[0m                                 Traceback (most recent call last)",
      "Cell \u001b[0;32mIn[6], line 39\u001b[0m\n\u001b[1;32m     37\u001b[0m processor \u001b[38;5;241m=\u001b[39m DataProcessor()\n\u001b[1;32m     38\u001b[0m engineer \u001b[38;5;241m=\u001b[39m FeatureEngineer()\n\u001b[0;32m---> 39\u001b[0m trainer \u001b[38;5;241m=\u001b[39m \u001b[43mModelTrainer\u001b[49m\u001b[43m(\u001b[49m\u001b[43mconfig_path\u001b[49m\u001b[38;5;241;43m=\u001b[39;49m\u001b[43mPROJECT_ROOT\u001b[49m\u001b[43m \u001b[49m\u001b[38;5;241;43m/\u001b[39;49m\u001b[43m \u001b[49m\u001b[38;5;124;43m\"\u001b[39;49m\u001b[38;5;124;43mconfig.yaml\u001b[39;49m\u001b[38;5;124;43m\"\u001b[39;49m\u001b[43m)\u001b[49m\n\u001b[1;32m     41\u001b[0m \u001b[38;5;66;03m# Rest of your code...\u001b[39;00m\n",
      "\u001b[0;31mTypeError\u001b[0m: ModelTrainer.__init__() got an unexpected keyword argument 'config_path'"
     ]
    }
   ],
   "source": [
    "# 01_model_training.ipynb\n",
    "\n",
    "# Add project root to path so we can import our modules\n",
    "import sys\n",
    "import os\n",
    "from pathlib import Path\n",
    "\n",
    "# Get the absolute path to the project root\n",
    "PROJECT_ROOT = Path().absolute().parent  # if notebook is in notebooks/ directory\n",
    "# or\n",
    "# PROJECT_ROOT = Path().absolute()  # if notebook is in project root\n",
    "\n",
    "# Add to Python path\n",
    "sys.path.append(str(PROJECT_ROOT))\n",
    "\n",
    "# Print paths to debug\n",
    "print(\"Current working directory:\", os.getcwd())\n",
    "print(\"Project root:\", PROJECT_ROOT)\n",
    "print(\"Config path exists:\", (PROJECT_ROOT / \"config.yaml\").exists())\n",
    "\n",
    "# Modify DataLoader to use explicit path\n",
    "class DataLoader:\n",
    "    def __init__(self, config_path=None):\n",
    "        if config_path is None:\n",
    "            config_path = PROJECT_ROOT / \"config.yaml\"\n",
    "        with open(config_path, 'r') as file:\n",
    "            self.config = yaml.safe_load(file)\n",
    "\n",
    "# Now run the pipeline code\n",
    "from src.data.data_loader import DataLoader\n",
    "from src.data.data_processor import DataProcessor\n",
    "from src.features.feature_engineering import FeatureEngineer\n",
    "from src.models.train import ModelTrainer\n",
    "\n",
    "# Initialize classes with explicit config path\n",
    "loader = DataLoader(config_path=PROJECT_ROOT / \"config.yaml\")\n",
    "processor = DataProcessor()\n",
    "engineer = FeatureEngineer()\n",
    "trainer = ModelTrainer(config_path=PROJECT_ROOT / \"config.yaml\")\n",
    "\n",
    "# Rest of your code..."
   ]
  }
 ],
 "metadata": {
  "kernelspec": {
   "display_name": ".env",
   "language": "python",
   "name": "python3"
  },
  "language_info": {
   "codemirror_mode": {
    "name": "ipython",
    "version": 3
   },
   "file_extension": ".py",
   "mimetype": "text/x-python",
   "name": "python",
   "nbconvert_exporter": "python",
   "pygments_lexer": "ipython3",
   "version": "3.10.12"
  }
 },
 "nbformat": 4,
 "nbformat_minor": 2
}
